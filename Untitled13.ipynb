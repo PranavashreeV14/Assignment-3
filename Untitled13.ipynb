{
  "nbformat": 4,
  "nbformat_minor": 0,
  "metadata": {
    "colab": {
      "provenance": [],
      "authorship_tag": "ABX9TyNXwgmKAnygQ4QWe78ZLI4w",
      "include_colab_link": true
    },
    "kernelspec": {
      "name": "python3",
      "display_name": "Python 3"
    },
    "language_info": {
      "name": "python"
    }
  },
  "cells": [
    {
      "cell_type": "markdown",
      "metadata": {
        "id": "view-in-github",
        "colab_type": "text"
      },
      "source": [
        "<a href=\"https://colab.research.google.com/github/PranavashreeV14/Assignment-3/blob/main/Untitled13.ipynb\" target=\"_parent\"><img src=\"https://colab.research.google.com/assets/colab-badge.svg\" alt=\"Open In Colab\"/></a>"
      ]
    },
    {
      "cell_type": "code",
      "execution_count": 7,
      "metadata": {
        "colab": {
          "base_uri": "https://localhost:8080/"
        },
        "id": "A98oGoXTm7or",
        "outputId": "0359c906-c446-42dd-ecc7-4d037c56e6ee"
      },
      "outputs": [
        {
          "output_type": "stream",
          "name": "stdout",
          "text": [
            "completed\n"
          ]
        }
      ],
      "source": [
        "import numpy as np\n",
        "def climate_solution(data_path,weights,n):\n",
        "            all_data=np.concatenate([np.genfromtxt(data_path+f\"{i+1}.csv\",delimiter=',',skip_header=1) for i in range(n)])\n",
        "            yield_of_corp=all_data@weights\n",
        "            climate_results = np.concatenate((all_data, yield_of_corp.reshape(-1, 1)), axis=1)\n",
        "            results=np.savetxt(\"climate_results.csv\",climate_results,delimiter=',',fmt='%.2f',header='temperature,rainfall,humidity,yield_of_corp')  \n",
        "            print(\"completed\")\n",
        "\n",
        "data_path=\"https://raw.githubusercontent.com/svkarthik86/Advanced-python/main/climate_project/climate_data_station\"\n",
        "weights = np.array([0.3, 0.2, 0.5])\n",
        "climate_solution(data_path,weights,10)\n"
      ]
    }
  ]
}